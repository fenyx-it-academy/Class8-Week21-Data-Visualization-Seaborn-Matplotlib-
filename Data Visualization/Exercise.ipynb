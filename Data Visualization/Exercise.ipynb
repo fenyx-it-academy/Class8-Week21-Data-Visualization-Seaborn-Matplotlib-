{
 "cells": [
  {
   "attachments": {},
   "cell_type": "markdown",
   "metadata": {
    "papermill": {
     "duration": 0.0301,
     "end_time": "2020-12-14T14:56:27.744518",
     "exception": false,
     "start_time": "2020-12-14T14:56:27.714418",
     "status": "completed"
    },
    "tags": []
   },
   "source": [
    "# INTRODUCTION \n",
    "This dataset contains hit rate by race by state, highschool ratio vs poverty ratio\n",
    " \n",
    " \n",
    "\n",
    "\n",
    "1. [Read datas](#1)\n",
    "1. [Visualizing with Bar Plot](#2)\n",
    "1. [Visualizing with Point Plot](#3)\n",
    "1. [Visualizing with Lm Plot](#4)\n",
    "1. [Visualizing with Heatmap](#5)\n",
    "1. [Visualizing with BoxPlot](#6)\n",
    "1. [Visualizing with SwarmPlot](#7)\n",
    "1. [Visualizing with PairPlot](#8)\n",
    "1. [Visualizing with CountPlot](#9)\n",
    "   * Death Rate By Gender\n",
    "   * Top ten kill by weapon \n",
    "   * age of killed people above 20\n",
    "   * Race of Killed Poeple\n",
    "   * Having mental ilness or not for killed people\n",
    "   * Threat types\n",
    "   * Flee types\n",
    "   * Having body cameras or not for police\n",
    "1. [Visualizing with Bar_Plot_V2](#10)\n",
    "   * Kill numbers from states in kill data\n",
    "   * Most dangerous cities in the US\n",
    "   * Most dangerous states\n"
   ]
  },
  {
   "cell_type": "code",
   "execution_count": 1,
   "metadata": {
    "_cell_guid": "b1076dfc-b9ad-4769-8c92-a6c4dae69d19",
    "_uuid": "8f2839f25d086af736a60e9eeb907d3b93b6e0e5",
    "execution": {
     "iopub.execute_input": "2020-12-14T14:56:27.813113Z",
     "iopub.status.busy": "2020-12-14T14:56:27.812270Z",
     "iopub.status.idle": "2020-12-14T14:56:28.932284Z",
     "shell.execute_reply": "2020-12-14T14:56:28.931566Z"
    },
    "papermill": {
     "duration": 1.158712,
     "end_time": "2020-12-14T14:56:28.932407",
     "exception": false,
     "start_time": "2020-12-14T14:56:27.773695",
     "status": "completed"
    },
    "tags": []
   },
   "outputs": [],
   "source": [
    "# This Python 3 environment comes with many helpful analytics libraries installed\n",
    "# It is defined by the kaggle/python Docker image: https://github.com/kaggle/docker-python\n",
    "# For example, here's several helpful packages to load\n",
    "\n",
    "\n",
    "import numpy as np # linear algebra\n",
    "import pandas as pd # data processing, CSV file I/O (e.g. pd.read_csv)\n",
    "import seaborn as sns\n",
    "import matplotlib.pyplot as plt\n",
    "# Input data files are available in the read-only \"../input/\" directory\n",
    "# For example, running this (by clicking run or pressing Shift+Enter) will list all files under the input directory\n",
    "from collections import Counter\n",
    "%matplotlib inline\n",
    "import os\n",
    "\n",
    "for dirname, _, filenames in os.walk('/kaggle/input'):\n",
    "    for filename in filenames:\n",
    "        print(os.path.join(dirname, filename))\n",
    "\n",
    "# You can write up to 20GB to the current directory (/kaggle/working/) that gets preserved as output when you create a version using \"Save & Run All\" \n",
    "# You can also write temporary files to /kaggle/temp/, but they won't be saved outside of the current session"
   ]
  },
  {
   "attachments": {},
   "cell_type": "markdown",
   "metadata": {
    "papermill": {
     "duration": 0.028674,
     "end_time": "2020-12-14T14:56:28.990623",
     "exception": false,
     "start_time": "2020-12-14T14:56:28.961949",
     "status": "completed"
    },
    "tags": []
   },
   "source": [
    "<a id = \"1\"></a><br>\n",
    "\n",
    "\n",
    "\n",
    "## Read Datas"
   ]
  },
  {
   "cell_type": "code",
   "execution_count": 3,
   "metadata": {
    "_cell_guid": "79c7e3d0-c299-4dcb-8224-4455121ee9b0",
    "_uuid": "d629ff2d2480ee46fbb7e2d37f6b5fab8052498a",
    "execution": {
     "iopub.execute_input": "2020-12-14T14:56:29.055948Z",
     "iopub.status.busy": "2020-12-14T14:56:29.055284Z",
     "iopub.status.idle": "2020-12-14T14:56:29.406891Z",
     "shell.execute_reply": "2020-12-14T14:56:29.406188Z"
    },
    "papermill": {
     "duration": 0.387407,
     "end_time": "2020-12-14T14:56:29.407005",
     "exception": false,
     "start_time": "2020-12-14T14:56:29.019598",
     "status": "completed"
    },
    "tags": []
   },
   "outputs": [],
   "source": [
    "median_house_hold_in_come = pd.read_csv('MedianHouseholdIncome2015.csv', encoding=\"windows-1252\")\n",
    "\n",
    "percentage_people_below_poverty_level = pd.read_csv('PercentagePeopleBelowPovertyLevel.csv', encoding=\"windows-1252\")\n",
    "\n",
    "percent_over_25_completed_highSchool = pd.read_csv('PercentOver25CompletedHighSchool.csv', encoding=\"windows-1252\")\n",
    "\n",
    "share_race_city = pd.read_csv('ShareRaceByCity.csv', encoding=\"windows-1252\")\n",
    "\n",
    "kill = pd.read_csv('PoliceKillingsUS.csv', encoding=\"windows-1252\")\n",
    "\n",
    "race_by_city = pd.read_csv(\"ShareRaceByCity.csv\",encoding=\"windows-1252\")"
   ]
  },
  {
   "cell_type": "code",
   "execution_count": 4,
   "metadata": {
    "execution": {
     "iopub.execute_input": "2020-12-14T14:56:29.487033Z",
     "iopub.status.busy": "2020-12-14T14:56:29.486051Z",
     "iopub.status.idle": "2020-12-14T14:56:29.498420Z",
     "shell.execute_reply": "2020-12-14T14:56:29.497839Z"
    },
    "papermill": {
     "duration": 0.061014,
     "end_time": "2020-12-14T14:56:29.498545",
     "exception": false,
     "start_time": "2020-12-14T14:56:29.437531",
     "status": "completed"
    },
    "tags": []
   },
   "outputs": [
    {
     "data": {
      "text/html": [
       "<div>\n",
       "<style scoped>\n",
       "    .dataframe tbody tr th:only-of-type {\n",
       "        vertical-align: middle;\n",
       "    }\n",
       "\n",
       "    .dataframe tbody tr th {\n",
       "        vertical-align: top;\n",
       "    }\n",
       "\n",
       "    .dataframe thead th {\n",
       "        text-align: right;\n",
       "    }\n",
       "</style>\n",
       "<table border=\"1\" class=\"dataframe\">\n",
       "  <thead>\n",
       "    <tr style=\"text-align: right;\">\n",
       "      <th></th>\n",
       "      <th>Geographic area</th>\n",
       "      <th>City</th>\n",
       "      <th>share_white</th>\n",
       "      <th>share_black</th>\n",
       "      <th>share_native_american</th>\n",
       "      <th>share_asian</th>\n",
       "      <th>share_hispanic</th>\n",
       "    </tr>\n",
       "  </thead>\n",
       "  <tbody>\n",
       "    <tr>\n",
       "      <th>0</th>\n",
       "      <td>AL</td>\n",
       "      <td>Abanda CDP</td>\n",
       "      <td>67.2</td>\n",
       "      <td>30.2</td>\n",
       "      <td>0</td>\n",
       "      <td>0</td>\n",
       "      <td>1.6</td>\n",
       "    </tr>\n",
       "    <tr>\n",
       "      <th>1</th>\n",
       "      <td>AL</td>\n",
       "      <td>Abbeville city</td>\n",
       "      <td>54.4</td>\n",
       "      <td>41.4</td>\n",
       "      <td>0.1</td>\n",
       "      <td>1</td>\n",
       "      <td>3.1</td>\n",
       "    </tr>\n",
       "    <tr>\n",
       "      <th>2</th>\n",
       "      <td>AL</td>\n",
       "      <td>Adamsville city</td>\n",
       "      <td>52.3</td>\n",
       "      <td>44.9</td>\n",
       "      <td>0.5</td>\n",
       "      <td>0.3</td>\n",
       "      <td>2.3</td>\n",
       "    </tr>\n",
       "    <tr>\n",
       "      <th>3</th>\n",
       "      <td>AL</td>\n",
       "      <td>Addison town</td>\n",
       "      <td>99.1</td>\n",
       "      <td>0.1</td>\n",
       "      <td>0</td>\n",
       "      <td>0.1</td>\n",
       "      <td>0.4</td>\n",
       "    </tr>\n",
       "    <tr>\n",
       "      <th>4</th>\n",
       "      <td>AL</td>\n",
       "      <td>Akron town</td>\n",
       "      <td>13.2</td>\n",
       "      <td>86.5</td>\n",
       "      <td>0</td>\n",
       "      <td>0</td>\n",
       "      <td>0.3</td>\n",
       "    </tr>\n",
       "  </tbody>\n",
       "</table>\n",
       "</div>"
      ],
      "text/plain": [
       "  Geographic area             City share_white share_black   \n",
       "0              AL       Abanda CDP        67.2        30.2  \\\n",
       "1              AL   Abbeville city        54.4        41.4   \n",
       "2              AL  Adamsville city        52.3        44.9   \n",
       "3              AL     Addison town        99.1         0.1   \n",
       "4              AL       Akron town        13.2        86.5   \n",
       "\n",
       "  share_native_american share_asian share_hispanic  \n",
       "0                     0           0            1.6  \n",
       "1                   0.1           1            3.1  \n",
       "2                   0.5         0.3            2.3  \n",
       "3                     0         0.1            0.4  \n",
       "4                     0           0            0.3  "
      ]
     },
     "execution_count": 4,
     "metadata": {},
     "output_type": "execute_result"
    }
   ],
   "source": [
    "race_by_city.head()"
   ]
  },
  {
   "cell_type": "code",
   "execution_count": 5,
   "metadata": {
    "execution": {
     "iopub.execute_input": "2020-12-14T14:56:29.569457Z",
     "iopub.status.busy": "2020-12-14T14:56:29.568737Z",
     "iopub.status.idle": "2020-12-14T14:56:29.572532Z",
     "shell.execute_reply": "2020-12-14T14:56:29.573063Z"
    },
    "papermill": {
     "duration": 0.044672,
     "end_time": "2020-12-14T14:56:29.573231",
     "exception": false,
     "start_time": "2020-12-14T14:56:29.528559",
     "status": "completed"
    },
    "tags": []
   },
   "outputs": [
    {
     "data": {
      "text/html": [
       "<div>\n",
       "<style scoped>\n",
       "    .dataframe tbody tr th:only-of-type {\n",
       "        vertical-align: middle;\n",
       "    }\n",
       "\n",
       "    .dataframe tbody tr th {\n",
       "        vertical-align: top;\n",
       "    }\n",
       "\n",
       "    .dataframe thead th {\n",
       "        text-align: right;\n",
       "    }\n",
       "</style>\n",
       "<table border=\"1\" class=\"dataframe\">\n",
       "  <thead>\n",
       "    <tr style=\"text-align: right;\">\n",
       "      <th></th>\n",
       "      <th>Geographic Area</th>\n",
       "      <th>City</th>\n",
       "      <th>Median Income</th>\n",
       "    </tr>\n",
       "  </thead>\n",
       "  <tbody>\n",
       "    <tr>\n",
       "      <th>0</th>\n",
       "      <td>AL</td>\n",
       "      <td>Abanda CDP</td>\n",
       "      <td>11207</td>\n",
       "    </tr>\n",
       "    <tr>\n",
       "      <th>1</th>\n",
       "      <td>AL</td>\n",
       "      <td>Abbeville city</td>\n",
       "      <td>25615</td>\n",
       "    </tr>\n",
       "    <tr>\n",
       "      <th>2</th>\n",
       "      <td>AL</td>\n",
       "      <td>Adamsville city</td>\n",
       "      <td>42575</td>\n",
       "    </tr>\n",
       "    <tr>\n",
       "      <th>3</th>\n",
       "      <td>AL</td>\n",
       "      <td>Addison town</td>\n",
       "      <td>37083</td>\n",
       "    </tr>\n",
       "    <tr>\n",
       "      <th>4</th>\n",
       "      <td>AL</td>\n",
       "      <td>Akron town</td>\n",
       "      <td>21667</td>\n",
       "    </tr>\n",
       "  </tbody>\n",
       "</table>\n",
       "</div>"
      ],
      "text/plain": [
       "  Geographic Area             City Median Income\n",
       "0              AL       Abanda CDP         11207\n",
       "1              AL   Abbeville city         25615\n",
       "2              AL  Adamsville city         42575\n",
       "3              AL     Addison town         37083\n",
       "4              AL       Akron town         21667"
      ]
     },
     "execution_count": 5,
     "metadata": {},
     "output_type": "execute_result"
    }
   ],
   "source": [
    "median_house_hold_in_come.head()"
   ]
  },
  {
   "cell_type": "code",
   "execution_count": 6,
   "metadata": {
    "execution": {
     "iopub.execute_input": "2020-12-14T14:56:29.643668Z",
     "iopub.status.busy": "2020-12-14T14:56:29.642903Z",
     "iopub.status.idle": "2020-12-14T14:56:29.653098Z",
     "shell.execute_reply": "2020-12-14T14:56:29.653670Z"
    },
    "papermill": {
     "duration": 0.048258,
     "end_time": "2020-12-14T14:56:29.653832",
     "exception": false,
     "start_time": "2020-12-14T14:56:29.605574",
     "status": "completed"
    },
    "tags": []
   },
   "outputs": [
    {
     "data": {
      "text/html": [
       "<div>\n",
       "<style scoped>\n",
       "    .dataframe tbody tr th:only-of-type {\n",
       "        vertical-align: middle;\n",
       "    }\n",
       "\n",
       "    .dataframe tbody tr th {\n",
       "        vertical-align: top;\n",
       "    }\n",
       "\n",
       "    .dataframe thead th {\n",
       "        text-align: right;\n",
       "    }\n",
       "</style>\n",
       "<table border=\"1\" class=\"dataframe\">\n",
       "  <thead>\n",
       "    <tr style=\"text-align: right;\">\n",
       "      <th></th>\n",
       "      <th>Geographic Area</th>\n",
       "      <th>City</th>\n",
       "      <th>poverty_rate</th>\n",
       "    </tr>\n",
       "  </thead>\n",
       "  <tbody>\n",
       "    <tr>\n",
       "      <th>0</th>\n",
       "      <td>AL</td>\n",
       "      <td>Abanda CDP</td>\n",
       "      <td>78.8</td>\n",
       "    </tr>\n",
       "    <tr>\n",
       "      <th>1</th>\n",
       "      <td>AL</td>\n",
       "      <td>Abbeville city</td>\n",
       "      <td>29.1</td>\n",
       "    </tr>\n",
       "    <tr>\n",
       "      <th>2</th>\n",
       "      <td>AL</td>\n",
       "      <td>Adamsville city</td>\n",
       "      <td>25.5</td>\n",
       "    </tr>\n",
       "    <tr>\n",
       "      <th>3</th>\n",
       "      <td>AL</td>\n",
       "      <td>Addison town</td>\n",
       "      <td>30.7</td>\n",
       "    </tr>\n",
       "    <tr>\n",
       "      <th>4</th>\n",
       "      <td>AL</td>\n",
       "      <td>Akron town</td>\n",
       "      <td>42</td>\n",
       "    </tr>\n",
       "  </tbody>\n",
       "</table>\n",
       "</div>"
      ],
      "text/plain": [
       "  Geographic Area             City poverty_rate\n",
       "0              AL       Abanda CDP         78.8\n",
       "1              AL   Abbeville city         29.1\n",
       "2              AL  Adamsville city         25.5\n",
       "3              AL     Addison town         30.7\n",
       "4              AL       Akron town           42"
      ]
     },
     "execution_count": 6,
     "metadata": {},
     "output_type": "execute_result"
    }
   ],
   "source": [
    "percentage_people_below_poverty_level.head()"
   ]
  },
  {
   "cell_type": "code",
   "execution_count": 7,
   "metadata": {
    "execution": {
     "iopub.execute_input": "2020-12-14T14:56:29.721821Z",
     "iopub.status.busy": "2020-12-14T14:56:29.721051Z",
     "iopub.status.idle": "2020-12-14T14:56:29.747070Z",
     "shell.execute_reply": "2020-12-14T14:56:29.746389Z"
    },
    "papermill": {
     "duration": 0.062133,
     "end_time": "2020-12-14T14:56:29.747211",
     "exception": false,
     "start_time": "2020-12-14T14:56:29.685078",
     "status": "completed"
    },
    "tags": []
   },
   "outputs": [
    {
     "name": "stdout",
     "output_type": "stream",
     "text": [
      "<class 'pandas.core.frame.DataFrame'>\n",
      "RangeIndex: 29329 entries, 0 to 29328\n",
      "Data columns (total 3 columns):\n",
      " #   Column           Non-Null Count  Dtype \n",
      "---  ------           --------------  ----- \n",
      " 0   Geographic Area  29329 non-null  object\n",
      " 1   City             29329 non-null  object\n",
      " 2   poverty_rate     29329 non-null  object\n",
      "dtypes: object(3)\n",
      "memory usage: 687.5+ KB\n"
     ]
    }
   ],
   "source": [
    "percentage_people_below_poverty_level.info()"
   ]
  },
  {
   "cell_type": "code",
   "execution_count": 8,
   "metadata": {
    "execution": {
     "iopub.execute_input": "2020-12-14T14:56:29.814929Z",
     "iopub.status.busy": "2020-12-14T14:56:29.814278Z",
     "iopub.status.idle": "2020-12-14T14:56:29.829774Z",
     "shell.execute_reply": "2020-12-14T14:56:29.830348Z"
    },
    "papermill": {
     "duration": 0.051185,
     "end_time": "2020-12-14T14:56:29.830501",
     "exception": false,
     "start_time": "2020-12-14T14:56:29.779316",
     "status": "completed"
    },
    "tags": []
   },
   "outputs": [
    {
     "data": {
      "text/plain": [
       "poverty_rate\n",
       "0       1464\n",
       "-        201\n",
       "7.4      129\n",
       "6.7      129\n",
       "10.9     128\n",
       "        ... \n",
       "73.5       1\n",
       "92         1\n",
       "73.8       1\n",
       "55.9       1\n",
       "83.6       1\n",
       "Name: count, Length: 771, dtype: int64"
      ]
     },
     "execution_count": 8,
     "metadata": {},
     "output_type": "execute_result"
    }
   ],
   "source": [
    "percentage_people_below_poverty_level.poverty_rate.value_counts()\n",
    "#There is a missing value this sign '-' doesn't make any sense."
   ]
  },
  {
   "cell_type": "code",
   "execution_count": 9,
   "metadata": {
    "execution": {
     "iopub.execute_input": "2020-12-14T14:56:29.898522Z",
     "iopub.status.busy": "2020-12-14T14:56:29.897847Z",
     "iopub.status.idle": "2020-12-14T14:56:29.905878Z",
     "shell.execute_reply": "2020-12-14T14:56:29.906413Z"
    },
    "papermill": {
     "duration": 0.044159,
     "end_time": "2020-12-14T14:56:29.906553",
     "exception": false,
     "start_time": "2020-12-14T14:56:29.862394",
     "status": "completed"
    },
    "tags": []
   },
   "outputs": [
    {
     "data": {
      "text/plain": [
       "array(['AL', 'AK', 'AZ', 'AR', 'CA', 'CO', 'CT', 'DE', 'DC', 'FL', 'GA',\n",
       "       'HI', 'ID', 'IL', 'IN', 'IA', 'KS', 'KY', 'LA', 'ME', 'MD', 'MA',\n",
       "       'MI', 'MN', 'MS', 'MO', 'MT', 'NE', 'NV', 'NH', 'NJ', 'NM', 'NY',\n",
       "       'NC', 'ND', 'OH', 'OK', 'OR', 'PA', 'RI', 'SC', 'SD', 'TN', 'TX',\n",
       "       'UT', 'VT', 'VA', 'WA', 'WV', 'WI', 'WY'], dtype=object)"
      ]
     },
     "execution_count": 9,
     "metadata": {},
     "output_type": "execute_result"
    }
   ],
   "source": [
    "percentage_people_below_poverty_level[\"Geographic Area\"].unique()"
   ]
  },
  {
   "attachments": {},
   "cell_type": "markdown",
   "metadata": {
    "papermill": {
     "duration": 0.032491,
     "end_time": "2020-12-14T14:56:29.971575",
     "exception": false,
     "start_time": "2020-12-14T14:56:29.939084",
     "status": "completed"
    },
    "tags": []
   },
   "source": [
    "\n",
    "<a id = \"2\"></a><br>\n",
    "\n",
    "\n",
    "## Visualizing with Bar Plot"
   ]
  },
  {
   "attachments": {},
   "cell_type": "markdown",
   "metadata": {},
   "source": [
    "### Plot the poverty rate per geographic area"
   ]
  },
  {
   "attachments": {},
   "cell_type": "markdown",
   "metadata": {},
   "source": [
    "#### TO-DO exercise"
   ]
  },
  {
   "cell_type": "code",
   "execution_count": 157,
   "metadata": {},
   "outputs": [],
   "source": [
    "df_poverty = percentage_people_below_poverty_level\n",
    "\n",
    "# TO-DO : Remove the (-) from the dataset\n",
    "\n",
    "\n",
    "\n",
    "# TO-DO : Change the data type of poverty rate to float (from object)\n",
    "\n",
    "\n",
    "\n",
    "# TO-DO : make a list out of the geographic area names\n",
    "\n",
    "\n",
    "\n",
    "# TO-DO : make a list of poverty rate of each area\n",
    "\n",
    "\n",
    "\n",
    "# TO-DO : make a data frame from these lists (out of a dictionary)\n",
    "\n",
    "\n",
    "\n",
    "# TO-DO : sort the poverty rate in decreasing order\n",
    "# new_index = (data['area_poverty_ratio'].sort_values(ascending=False)).index.values\n",
    "# sorted_data = data.reindex(new_index)\n",
    "\n",
    "\n",
    "# Visualization\n"
   ]
  },
  {
   "cell_type": "code",
   "execution_count": null,
   "metadata": {},
   "outputs": [],
   "source": []
  },
  {
   "attachments": {},
   "cell_type": "markdown",
   "metadata": {},
   "source": []
  },
  {
   "attachments": {},
   "cell_type": "markdown",
   "metadata": {},
   "source": [
    "-----\n",
    "\n",
    "Answers are in the next cell"
   ]
  },
  {
   "cell_type": "code",
   "execution_count": 158,
   "metadata": {
    "execution": {
     "iopub.execute_input": "2020-12-14T14:56:30.044940Z",
     "iopub.status.busy": "2020-12-14T14:56:30.044064Z",
     "iopub.status.idle": "2020-12-14T14:56:31.122068Z",
     "shell.execute_reply": "2020-12-14T14:56:31.121392Z"
    },
    "papermill": {
     "duration": 1.116996,
     "end_time": "2020-12-14T14:56:31.122199",
     "exception": false,
     "start_time": "2020-12-14T14:56:30.005203",
     "status": "completed"
    },
    "scrolled": true,
    "tags": []
   },
   "outputs": [
    {
     "data": {
      "text/plain": [
       "Text(0.5, 1.0, 'Poverty Rate Given States')"
      ]
     },
     "execution_count": 158,
     "metadata": {},
     "output_type": "execute_result"
    },
    {
     "data": {
      "image/png": "[encoded data removed]",
      "text/plain": [
       "<Figure size 1080x720 with 1 Axes>"
      ]
     },
     "metadata": {
      "needs_background": "light"
     },
     "output_type": "display_data"
    }
   ],
   "source": [
    "# Data cleaning\n",
    "df_poverty.replace(['-'], 0.0, inplace = True)\n",
    "\n",
    "# Change the data type\n",
    "df_poverty.poverty_rate = df_poverty.poverty_rate.astype(float)\n",
    "\n",
    "\n",
    "# Take the names of the areas out in a list\n",
    "area_list = list(df_poverty['Geographic Area'].unique())\n",
    "\n",
    "area_poverty_ratio = []\n",
    "\n",
    "for i in area_list:\n",
    "    x = df_poverty[df_poverty['Geographic Area']==i]\n",
    "    area_poverty_rate = sum(x.poverty_rate)/len(x)\n",
    "    area_poverty_ratio.append(area_poverty_rate)\n",
    "\n",
    "data = pd.DataFrame({'area_list': area_list,'area_poverty_ratio':area_poverty_ratio})\n",
    "\n",
    "new_index = (data['area_poverty_ratio'].sort_values(ascending=False)).index.values\n",
    "\n",
    "sorted_data = data.reindex(new_index)\n",
    "\n",
    "\n",
    "# visualization\n",
    "plt.figure(figsize=(15,10))\n",
    "\n",
    "sns.barplot(x=sorted_data['area_list'],\n",
    "            y=sorted_data['area_poverty_ratio'])\n",
    "\n",
    "plt.xticks(rotation= 45)\n",
    "plt.xlabel('States')\n",
    "plt.ylabel('Poverty Rate')\n",
    "plt.title('Poverty Rate Given States')"
   ]
  },
  {
   "attachments": {},
   "cell_type": "markdown",
   "metadata": {},
   "source": [
    "-----"
   ]
  },
  {
   "cell_type": "code",
   "execution_count": null,
   "metadata": {},
   "outputs": [],
   "source": []
  },
  {
   "cell_type": "code",
   "execution_count": null,
   "metadata": {},
   "outputs": [],
   "source": []
  },
  {
   "attachments": {},
   "cell_type": "markdown",
   "metadata": {
    "heading_collapsed": true
   },
   "source": [
    "#### Plot the 15 most common name or surname of killed people"
   ]
  },
  {
   "cell_type": "code",
   "execution_count": 68,
   "metadata": {
    "execution": {
     "iopub.execute_input": "2020-12-14T14:56:31.213556Z",
     "iopub.status.busy": "2020-12-14T14:56:31.212857Z",
     "iopub.status.idle": "2020-12-14T14:56:31.218409Z",
     "shell.execute_reply": "2020-12-14T14:56:31.217786Z"
    },
    "hidden": true,
    "papermill": {
     "duration": 0.061715,
     "end_time": "2020-12-14T14:56:31.218533",
     "exception": false,
     "start_time": "2020-12-14T14:56:31.156818",
     "status": "completed"
    },
    "tags": []
   },
   "outputs": [
    {
     "data": {
      "text/html": [
       "<div>\n",
       "<style scoped>\n",
       "    .dataframe tbody tr th:only-of-type {\n",
       "        vertical-align: middle;\n",
       "    }\n",
       "\n",
       "    .dataframe tbody tr th {\n",
       "        vertical-align: top;\n",
       "    }\n",
       "\n",
       "    .dataframe thead th {\n",
       "        text-align: right;\n",
       "    }\n",
       "</style>\n",
       "<table border=\"1\" class=\"dataframe\">\n",
       "  <thead>\n",
       "    <tr style=\"text-align: right;\">\n",
       "      <th></th>\n",
       "      <th>id</th>\n",
       "      <th>name</th>\n",
       "      <th>date</th>\n",
       "      <th>manner_of_death</th>\n",
       "      <th>armed</th>\n",
       "      <th>age</th>\n",
       "      <th>gender</th>\n",
       "      <th>race</th>\n",
       "      <th>city</th>\n",
       "      <th>state</th>\n",
       "      <th>signs_of_mental_illness</th>\n",
       "      <th>threat_level</th>\n",
       "      <th>flee</th>\n",
       "      <th>body_camera</th>\n",
       "    </tr>\n",
       "  </thead>\n",
       "  <tbody>\n",
       "    <tr>\n",
       "      <th>0</th>\n",
       "      <td>3</td>\n",
       "      <td>Tim Elliot</td>\n",
       "      <td>02/01/15</td>\n",
       "      <td>shot</td>\n",
       "      <td>gun</td>\n",
       "      <td>53.0</td>\n",
       "      <td>M</td>\n",
       "      <td>A</td>\n",
       "      <td>Shelton</td>\n",
       "      <td>WA</td>\n",
       "      <td>True</td>\n",
       "      <td>attack</td>\n",
       "      <td>Not fleeing</td>\n",
       "      <td>False</td>\n",
       "    </tr>\n",
       "    <tr>\n",
       "      <th>1</th>\n",
       "      <td>4</td>\n",
       "      <td>Lewis Lee Lembke</td>\n",
       "      <td>02/01/15</td>\n",
       "      <td>shot</td>\n",
       "      <td>gun</td>\n",
       "      <td>47.0</td>\n",
       "      <td>M</td>\n",
       "      <td>W</td>\n",
       "      <td>Aloha</td>\n",
       "      <td>OR</td>\n",
       "      <td>False</td>\n",
       "      <td>attack</td>\n",
       "      <td>Not fleeing</td>\n",
       "      <td>False</td>\n",
       "    </tr>\n",
       "    <tr>\n",
       "      <th>2</th>\n",
       "      <td>5</td>\n",
       "      <td>John Paul Quintero</td>\n",
       "      <td>03/01/15</td>\n",
       "      <td>shot and Tasered</td>\n",
       "      <td>unarmed</td>\n",
       "      <td>23.0</td>\n",
       "      <td>M</td>\n",
       "      <td>H</td>\n",
       "      <td>Wichita</td>\n",
       "      <td>KS</td>\n",
       "      <td>False</td>\n",
       "      <td>other</td>\n",
       "      <td>Not fleeing</td>\n",
       "      <td>False</td>\n",
       "    </tr>\n",
       "    <tr>\n",
       "      <th>3</th>\n",
       "      <td>8</td>\n",
       "      <td>Matthew Hoffman</td>\n",
       "      <td>04/01/15</td>\n",
       "      <td>shot</td>\n",
       "      <td>toy weapon</td>\n",
       "      <td>32.0</td>\n",
       "      <td>M</td>\n",
       "      <td>W</td>\n",
       "      <td>San Francisco</td>\n",
       "      <td>CA</td>\n",
       "      <td>True</td>\n",
       "      <td>attack</td>\n",
       "      <td>Not fleeing</td>\n",
       "      <td>False</td>\n",
       "    </tr>\n",
       "    <tr>\n",
       "      <th>4</th>\n",
       "      <td>9</td>\n",
       "      <td>Michael Rodriguez</td>\n",
       "      <td>04/01/15</td>\n",
       "      <td>shot</td>\n",
       "      <td>nail gun</td>\n",
       "      <td>39.0</td>\n",
       "      <td>M</td>\n",
       "      <td>H</td>\n",
       "      <td>Evans</td>\n",
       "      <td>CO</td>\n",
       "      <td>False</td>\n",
       "      <td>attack</td>\n",
       "      <td>Not fleeing</td>\n",
       "      <td>False</td>\n",
       "    </tr>\n",
       "  </tbody>\n",
       "</table>\n",
       "</div>"
      ],
      "text/plain": [
       "   id                name      date   manner_of_death       armed   age  \\\n",
       "0   3          Tim Elliot  02/01/15              shot         gun  53.0   \n",
       "1   4    Lewis Lee Lembke  02/01/15              shot         gun  47.0   \n",
       "2   5  John Paul Quintero  03/01/15  shot and Tasered     unarmed  23.0   \n",
       "3   8     Matthew Hoffman  04/01/15              shot  toy weapon  32.0   \n",
       "4   9   Michael Rodriguez  04/01/15              shot    nail gun  39.0   \n",
       "\n",
       "  gender race           city state  signs_of_mental_illness threat_level  \\\n",
       "0      M    A        Shelton    WA                     True       attack   \n",
       "1      M    W          Aloha    OR                    False       attack   \n",
       "2      M    H        Wichita    KS                    False        other   \n",
       "3      M    W  San Francisco    CA                     True       attack   \n",
       "4      M    H          Evans    CO                    False       attack   \n",
       "\n",
       "          flee  body_camera  \n",
       "0  Not fleeing        False  \n",
       "1  Not fleeing        False  \n",
       "2  Not fleeing        False  \n",
       "3  Not fleeing        False  \n",
       "4  Not fleeing        False  "
      ]
     },
     "execution_count": 68,
     "metadata": {},
     "output_type": "execute_result"
    }
   ],
   "source": [
    "kill.head()"
   ]
  },
  {
   "cell_type": "code",
   "execution_count": 159,
   "metadata": {
    "collapsed": true,
    "hidden": true
   },
   "outputs": [
    {
     "name": "stdout",
     "output_type": "stream",
     "text": [
      "<class 'pandas.core.frame.DataFrame'>\n",
      "RangeIndex: 2535 entries, 0 to 2534\n",
      "Data columns (total 14 columns):\n",
      " #   Column                   Non-Null Count  Dtype  \n",
      "---  ------                   --------------  -----  \n",
      " 0   id                       2535 non-null   int64  \n",
      " 1   name                     2535 non-null   object \n",
      " 2   date                     2535 non-null   object \n",
      " 3   manner_of_death          2535 non-null   object \n",
      " 4   armed                    2526 non-null   object \n",
      " 5   age                      2458 non-null   float64\n",
      " 6   gender                   2535 non-null   object \n",
      " 7   race                     2340 non-null   object \n",
      " 8   city                     2535 non-null   object \n",
      " 9   state                    2535 non-null   object \n",
      " 10  signs_of_mental_illness  2535 non-null   bool   \n",
      " 11  threat_level             2535 non-null   object \n",
      " 12  flee                     2470 non-null   object \n",
      " 13  body_camera              2535 non-null   bool   \n",
      "dtypes: bool(2), float64(1), int64(1), object(10)\n",
      "memory usage: 242.7+ KB\n"
     ]
    }
   ],
   "source": [
    "kill.info()"
   ]
  },
  {
   "cell_type": "code",
   "execution_count": 73,
   "metadata": {
    "execution": {
     "iopub.execute_input": "2020-12-14T14:56:31.306405Z",
     "iopub.status.busy": "2020-12-14T14:56:31.303409Z",
     "iopub.status.idle": "2020-12-14T14:56:31.310819Z",
     "shell.execute_reply": "2020-12-14T14:56:31.310055Z"
    },
    "hidden": true,
    "papermill": {
     "duration": 0.053413,
     "end_time": "2020-12-14T14:56:31.310942",
     "exception": false,
     "start_time": "2020-12-14T14:56:31.257529",
     "status": "completed"
    },
    "tags": []
   },
   "outputs": [
    {
     "data": {
      "text/plain": [
       "TK TK              49\n",
       "Michael Johnson     2\n",
       "Brandon Jones       2\n",
       "Eric Harris         2\n",
       "Michael Brown       2\n",
       "                   ..\n",
       "Jack Yantis         1\n",
       "James Covington     1\n",
       "Jeremy Mardis       1\n",
       "Joseph Tyndall      1\n",
       "Dwayne Jeune        1\n",
       "Name: name, Length: 2481, dtype: int64"
      ]
     },
     "execution_count": 73,
     "metadata": {},
     "output_type": "execute_result"
    }
   ],
   "source": [
    "kill.name.value_counts()\n",
    "#Here missing value  TK TK "
   ]
  },
  {
   "cell_type": "code",
   "execution_count": 169,
   "metadata": {
    "hidden": true
   },
   "outputs": [],
   "source": [
    "separate = kill.name[kill.name != 'TK TK'].str.split() \n",
    "\n",
    "a, b = zip(*separate)    # merges all the iterators in the parameter\n",
    "\n",
    "name_list = a+b                         \n",
    "name_count = Counter(name_list)   \n",
    "\n",
    "most_common_names = name_count.most_common(15)  \n",
    "\n",
    "x, y = zip(*most_common_names)  # \n",
    "x, y = list(x), list(y)"
   ]
  },
  {
   "cell_type": "code",
   "execution_count": 171,
   "metadata": {
    "hidden": true
   },
   "outputs": [
    {
     "data": {
      "text/plain": [
       "[91, 57, 56, 48, 48, 47, 46, 42, 40, 37, 36, 32, 31, 28, 28]"
      ]
     },
     "execution_count": 171,
     "metadata": {},
     "output_type": "execute_result"
    }
   ],
   "source": [
    "y"
   ]
  },
  {
   "cell_type": "code",
   "execution_count": null,
   "metadata": {
    "hidden": true
   },
   "outputs": [],
   "source": []
  },
  {
   "cell_type": "code",
   "execution_count": 71,
   "metadata": {
    "execution": {
     "iopub.execute_input": "2020-12-14T14:56:31.391430Z",
     "iopub.status.busy": "2020-12-14T14:56:31.390634Z",
     "iopub.status.idle": "2020-12-14T14:56:31.665688Z",
     "shell.execute_reply": "2020-12-14T14:56:31.666234Z"
    },
    "hidden": true,
    "papermill": {
     "duration": 0.319841,
     "end_time": "2020-12-14T14:56:31.666381",
     "exception": false,
     "start_time": "2020-12-14T14:56:31.346540",
     "status": "completed"
    },
    "tags": []
   },
   "outputs": [
    {
     "data": {
      "text/plain": [
       "Text(0.5, 1.0, 'Most common 15 Name or Surname of killed people')"
      ]
     },
     "execution_count": 71,
     "metadata": {},
     "output_type": "execute_result"
    },
    {
     "data": {
      "image/png": "[encoded data removed]",
      "text/plain": [
       "<Figure size 1080x720 with 1 Axes>"
      ]
     },
     "metadata": {
      "needs_background": "light"
     },
     "output_type": "display_data"
    }
   ],
   "source": [
    "# Visualize \n",
    "plt.figure(figsize=(15,10))\n",
    "\n",
    "ax= sns.barplot(x=x,\n",
    "                y=y,\n",
    "                palette = sns.cubehelix_palette(len(x)))\n",
    "\n",
    "plt.xlabel('Name or Surname of killed people')\n",
    "plt.ylabel('Frequency')\n",
    "plt.title('Most common 15 Name or Surname of killed people')"
   ]
  },
  {
   "cell_type": "code",
   "execution_count": null,
   "metadata": {
    "hidden": true
   },
   "outputs": [],
   "source": []
  },
  {
   "cell_type": "code",
   "execution_count": null,
   "metadata": {
    "hidden": true
   },
   "outputs": [],
   "source": []
  },
  {
   "attachments": {},
   "cell_type": "markdown",
   "metadata": {},
   "source": [
    "#### Plot the percentage of people above 25 who graduated high school in each state"
   ]
  },
  {
   "cell_type": "code",
   "execution_count": null,
   "metadata": {},
   "outputs": [],
   "source": []
  },
  {
   "cell_type": "code",
   "execution_count": 172,
   "metadata": {},
   "outputs": [],
   "source": [
    "df_high_school = percent_over_25_completed_highSchool"
   ]
  },
  {
   "cell_type": "code",
   "execution_count": 173,
   "metadata": {},
   "outputs": [
    {
     "data": {
      "text/html": [
       "<div>\n",
       "<style scoped>\n",
       "    .dataframe tbody tr th:only-of-type {\n",
       "        vertical-align: middle;\n",
       "    }\n",
       "\n",
       "    .dataframe tbody tr th {\n",
       "        vertical-align: top;\n",
       "    }\n",
       "\n",
       "    .dataframe thead th {\n",
       "        text-align: right;\n",
       "    }\n",
       "</style>\n",
       "<table border=\"1\" class=\"dataframe\">\n",
       "  <thead>\n",
       "    <tr style=\"text-align: right;\">\n",
       "      <th></th>\n",
       "      <th>Geographic Area</th>\n",
       "      <th>City</th>\n",
       "      <th>percent_completed_hs</th>\n",
       "    </tr>\n",
       "  </thead>\n",
       "  <tbody>\n",
       "    <tr>\n",
       "      <th>0</th>\n",
       "      <td>AL</td>\n",
       "      <td>Abanda CDP</td>\n",
       "      <td>21.2</td>\n",
       "    </tr>\n",
       "    <tr>\n",
       "      <th>1</th>\n",
       "      <td>AL</td>\n",
       "      <td>Abbeville city</td>\n",
       "      <td>69.1</td>\n",
       "    </tr>\n",
       "    <tr>\n",
       "      <th>2</th>\n",
       "      <td>AL</td>\n",
       "      <td>Adamsville city</td>\n",
       "      <td>78.9</td>\n",
       "    </tr>\n",
       "    <tr>\n",
       "      <th>3</th>\n",
       "      <td>AL</td>\n",
       "      <td>Addison town</td>\n",
       "      <td>81.4</td>\n",
       "    </tr>\n",
       "    <tr>\n",
       "      <th>4</th>\n",
       "      <td>AL</td>\n",
       "      <td>Akron town</td>\n",
       "      <td>68.6</td>\n",
       "    </tr>\n",
       "    <tr>\n",
       "      <th>...</th>\n",
       "      <td>...</td>\n",
       "      <td>...</td>\n",
       "      <td>...</td>\n",
       "    </tr>\n",
       "    <tr>\n",
       "      <th>29324</th>\n",
       "      <td>WY</td>\n",
       "      <td>Woods Landing-Jelm CDP</td>\n",
       "      <td>100</td>\n",
       "    </tr>\n",
       "    <tr>\n",
       "      <th>29325</th>\n",
       "      <td>WY</td>\n",
       "      <td>Worland city</td>\n",
       "      <td>85.6</td>\n",
       "    </tr>\n",
       "    <tr>\n",
       "      <th>29326</th>\n",
       "      <td>WY</td>\n",
       "      <td>Wright town</td>\n",
       "      <td>89.2</td>\n",
       "    </tr>\n",
       "    <tr>\n",
       "      <th>29327</th>\n",
       "      <td>WY</td>\n",
       "      <td>Yoder town</td>\n",
       "      <td>79.4</td>\n",
       "    </tr>\n",
       "    <tr>\n",
       "      <th>29328</th>\n",
       "      <td>WY</td>\n",
       "      <td>Y-O Ranch CDP</td>\n",
       "      <td>100</td>\n",
       "    </tr>\n",
       "  </tbody>\n",
       "</table>\n",
       "<p>29329 rows × 3 columns</p>\n",
       "</div>"
      ],
      "text/plain": [
       "      Geographic Area                    City percent_completed_hs\n",
       "0                  AL              Abanda CDP                 21.2\n",
       "1                  AL          Abbeville city                 69.1\n",
       "2                  AL         Adamsville city                 78.9\n",
       "3                  AL            Addison town                 81.4\n",
       "4                  AL              Akron town                 68.6\n",
       "...               ...                     ...                  ...\n",
       "29324              WY  Woods Landing-Jelm CDP                  100\n",
       "29325              WY            Worland city                 85.6\n",
       "29326              WY             Wright town                 89.2\n",
       "29327              WY              Yoder town                 79.4\n",
       "29328              WY           Y-O Ranch CDP                  100\n",
       "\n",
       "[29329 rows x 3 columns]"
      ]
     },
     "execution_count": 173,
     "metadata": {},
     "output_type": "execute_result"
    }
   ],
   "source": [
    "df_high_school"
   ]
  },
  {
   "cell_type": "code",
   "execution_count": 73,
   "metadata": {
    "execution": {
     "iopub.execute_input": "2020-12-14T14:56:31.748421Z",
     "iopub.status.busy": "2020-12-14T14:56:31.747520Z",
     "iopub.status.idle": "2020-12-14T14:56:31.751173Z",
     "shell.execute_reply": "2020-12-14T14:56:31.751761Z"
    },
    "papermill": {
     "duration": 0.048196,
     "end_time": "2020-12-14T14:56:31.751906",
     "exception": false,
     "start_time": "2020-12-14T14:56:31.703710",
     "status": "completed"
    },
    "tags": []
   },
   "outputs": [
    {
     "data": {
      "text/plain": [
       "Index(['Geographic Area', 'City', 'percent_completed_hs'], dtype='object')"
      ]
     },
     "execution_count": 73,
     "metadata": {},
     "output_type": "execute_result"
    }
   ],
   "source": [
    "df_high_school.columns # First we need columns to analize data"
   ]
  },
  {
   "cell_type": "code",
   "execution_count": 74,
   "metadata": {
    "execution": {
     "iopub.execute_input": "2020-12-14T14:56:31.831031Z",
     "iopub.status.busy": "2020-12-14T14:56:31.829980Z",
     "iopub.status.idle": "2020-12-14T14:56:31.848237Z",
     "shell.execute_reply": "2020-12-14T14:56:31.847541Z"
    },
    "papermill": {
     "duration": 0.058666,
     "end_time": "2020-12-14T14:56:31.848357",
     "exception": false,
     "start_time": "2020-12-14T14:56:31.789691",
     "status": "completed"
    },
    "tags": []
   },
   "outputs": [
    {
     "data": {
      "text/plain": [
       "100     1301\n",
       "-        197\n",
       "91.7     170\n",
       "92.9     169\n",
       "92.5     168\n",
       "        ... \n",
       "39.3       1\n",
       "20.1       1\n",
       "27.2       1\n",
       "36.8       1\n",
       "43.9       1\n",
       "Name: percent_completed_hs, Length: 728, dtype: int64"
      ]
     },
     "execution_count": 74,
     "metadata": {},
     "output_type": "execute_result"
    }
   ],
   "source": [
    "df_high_school.percent_completed_hs.value_counts()\n",
    "# Here our missing value \"-\" this.\n",
    "\n",
    "# df_high_school.info()"
   ]
  },
  {
   "cell_type": "code",
   "execution_count": 121,
   "metadata": {},
   "outputs": [],
   "source": [
    "# Data Cleaning\n",
    "\n",
    "# Replace the '-' with 0\n",
    "df_high_school.percent_completed_hs.replace([\"-\"], 0.0, inplace = True)\n",
    "# Change the data type\n",
    "df_high_school.percent_completed_hs = df_high_school.percent_completed_hs.astype(float)\n",
    "\n",
    "area_list = list(df_high_school[\"Geographic Area\"].unique()) \n",
    "\n",
    "area_highschool = []\n",
    "for i in area_list:\n",
    "    x = df_high_school[df_high_school[\"Geographic Area\"]==i]\n",
    "    area_highschool_rate =  sum(x.percent_completed_hs)/len(x)\n",
    "    area_highschool.append(area_highschool_rate)\n",
    "    \n",
    "# Sorting\n",
    "data = pd.DataFrame({\"area_list\":area_list, \"area_highschool_ratio\":area_highschool})\n",
    "new_index = (data[\"area_highschool_ratio\"].sort_values(ascending=True)).index.values\n",
    "sorted_data2 = data.reindex(new_index)"
   ]
  },
  {
   "cell_type": "code",
   "execution_count": 122,
   "metadata": {
    "execution": {
     "iopub.execute_input": "2020-12-14T14:56:31.933773Z",
     "iopub.status.busy": "2020-12-14T14:56:31.932725Z",
     "iopub.status.idle": "2020-12-14T14:56:33.055443Z",
     "shell.execute_reply": "2020-12-14T14:56:33.054792Z"
    },
    "papermill": {
     "duration": 1.169746,
     "end_time": "2020-12-14T14:56:33.055569",
     "exception": false,
     "start_time": "2020-12-14T14:56:31.885823",
     "status": "completed"
    },
    "tags": []
   },
   "outputs": [
    {
     "data": {
      "text/plain": [
       "Text(0.5, 1.0, \"Percentage of Given State's Population Above 25 that Has Graduate HighSchool\")"
      ]
     },
     "execution_count": 122,
     "metadata": {},
     "output_type": "execute_result"
    },
    {
     "data": {
      "image/png": "[encoded data removed]",
      "text/plain": [
       "<Figure size 1080x720 with 1 Axes>"
      ]
     },
     "metadata": {
      "needs_background": "light"
     },
     "output_type": "display_data"
    }
   ],
   "source": [
    "# Visualization\n",
    "plt.figure(figsize = (15,10))\n",
    "sns.barplot(x=sorted_data2[\"area_list\"], y=sorted_data2[\"area_highschool_ratio\"])\n",
    "plt.xticks(rotation = 45)\n",
    "plt.xlabel(\"States\")\n",
    "plt.ylabel(\"HighSchool Graduate Rate\")\n",
    "plt.title(\"Percentage of Given State's Population Above 25 that Has Graduate HighSchool\")"
   ]
  },
  {
   "attachments": {},
   "cell_type": "markdown",
   "metadata": {},
   "source": [
    "#### Plot the percentage of state's population according to races"
   ]
  },
  {
   "cell_type": "code",
   "execution_count": 123,
   "metadata": {
    "execution": {
     "iopub.execute_input": "2020-12-14T14:56:33.167387Z",
     "iopub.status.busy": "2020-12-14T14:56:33.149598Z",
     "iopub.status.idle": "2020-12-14T14:56:35.087429Z",
     "shell.execute_reply": "2020-12-14T14:56:35.086835Z"
    },
    "papermill": {
     "duration": 1.986847,
     "end_time": "2020-12-14T14:56:35.087558",
     "exception": false,
     "start_time": "2020-12-14T14:56:33.100711",
     "status": "completed"
    },
    "tags": []
   },
   "outputs": [
    {
     "data": {
      "text/plain": [
       "[Text(0.5, 0, 'Percentage of Races'),\n",
       " Text(0, 0.5, 'States'),\n",
       " Text(0.5, 1.0, \"Percentage of State's Population According to Races \")]"
      ]
     },
     "execution_count": 123,
     "metadata": {},
     "output_type": "execute_result"
    },
    {
     "data": {
      "image/png": "[encoded data removed]",
      "text/plain": [
       "<Figure size 648x1080 with 1 Axes>"
      ]
     },
     "metadata": {
      "needs_background": "light"
     },
     "output_type": "display_data"
    }
   ],
   "source": [
    "share_race_city.replace(['-'],0.0,inplace = True)\n",
    "share_race_city.replace(['(X)'],0.0,inplace = True)\n",
    "\n",
    "# Change the data type\n",
    "share_race_city.loc[:,['share_white','share_black','share_native_american','share_asian','share_hispanic']] = share_race_city.loc[:,['share_white','share_black','share_native_american','share_asian','share_hispanic']].astype(float)\n",
    "area_list = list(share_race_city['Geographic area'].unique())\n",
    "\n",
    "share_white = []\n",
    "share_black = []\n",
    "share_native_american = []\n",
    "share_asian = []\n",
    "share_hispanic = []\n",
    "\n",
    "for i in area_list:\n",
    "    x = share_race_city[share_race_city['Geographic area']==i]\n",
    "    share_white.append(sum(x.share_white)/len(x))\n",
    "    share_black.append(sum(x.share_black) / len(x))\n",
    "    share_native_american.append(sum(x.share_native_american) / len(x))\n",
    "    share_asian.append(sum(x.share_asian) / len(x))\n",
    "    share_hispanic.append(sum(x.share_hispanic) / len(x))\n",
    "\n",
    "# Visualization\n",
    "f,ax = plt.subplots(figsize = (9,15))\n",
    "sns.barplot(x=share_white, y=area_list, color='green', alpha = 0.5, label='White' )\n",
    "sns.barplot(x=share_black, y=area_list, color='black', alpha = 0.7, label='African American')\n",
    "sns.barplot(x=share_native_american, y=area_list, color='cyan', alpha = 0.6, label='Native American')\n",
    "sns.barplot(x=share_asian, y=area_list, color='yellow', alpha = 0.6, label='Asian')\n",
    "sns.barplot(x=share_hispanic, y=area_list, color='red', alpha = 0.6, label='Hispanic')\n",
    "\n",
    "ax.legend(loc='lower right', frameon = True)   \n",
    "ax.set(xlabel='Percentage of Races', \n",
    "       ylabel='States',\n",
    "       title = \"Percentage of State's Population According to Races \")"
   ]
  },
  {
   "attachments": {},
   "cell_type": "markdown",
   "metadata": {
    "papermill": {
     "duration": 0.040629,
     "end_time": "2020-12-14T14:56:35.174395",
     "exception": false,
     "start_time": "2020-12-14T14:56:35.133766",
     "status": "completed"
    },
    "tags": []
   },
   "source": [
    "<a id=\"3\"></a><br>\n",
    "\n",
    "\n",
    "# Visualizing with Point Plot\n",
    "* Correlation Poverty Ratio and Highschool Ratio by States"
   ]
  },
  {
   "attachments": {},
   "cell_type": "markdown",
   "metadata": {},
   "source": [
    "### Plot the correlation between the poverty ratio and high school graduare ratio"
   ]
  },
  {
   "cell_type": "code",
   "execution_count": 124,
   "metadata": {
    "execution": {
     "iopub.execute_input": "2020-12-14T14:56:35.270160Z",
     "iopub.status.busy": "2020-12-14T14:56:35.269112Z",
     "iopub.status.idle": "2020-12-14T14:56:36.246768Z",
     "shell.execute_reply": "2020-12-14T14:56:36.247297Z"
    },
    "papermill": {
     "duration": 1.031771,
     "end_time": "2020-12-14T14:56:36.247449",
     "exception": false,
     "start_time": "2020-12-14T14:56:35.215678",
     "status": "completed"
    },
    "tags": []
   },
   "outputs": [],
   "source": [
    "# Normalize the poverty ratio\n",
    "sorted_data['area_poverty_ratio'] = sorted_data['area_poverty_ratio']/max( sorted_data['area_poverty_ratio'])\n",
    "\n",
    "# Normalize the high school ratio\n",
    "sorted_data2[\"area_highschool_ratio\" ] = sorted_data2[\"area_highschool_ratio\"]/max(sorted_data2[\"area_highschool_ratio\"])\n",
    "\n",
    "data = pd.concat([sorted_data,\n",
    "                  sorted_data2['area_highschool_ratio']],\n",
    "                  axis=1)\n",
    "\n",
    "data.sort_values(\"area_poverty_ratio\",\n",
    "                 inplace=True)"
   ]
  },
  {
   "cell_type": "code",
   "execution_count": 125,
   "metadata": {},
   "outputs": [
    {
     "data": {
      "image/png": "[encoded data removed]",
      "text/plain": [
       "<Figure size 1440x720 with 1 Axes>"
      ]
     },
     "metadata": {
      "needs_background": "light"
     },
     "output_type": "display_data"
    }
   ],
   "source": [
    "# Visualization\n",
    "f,ax1 = plt.subplots(figsize=(20,10))\n",
    "\n",
    "sns.pointplot(x=\"area_list\",\n",
    "              y=\"area_poverty_ratio\",\n",
    "              data=data,\n",
    "              color=\"lime\",\n",
    "              alpha=0.8)\n",
    "\n",
    "sns.pointplot(x=\"area_list\",\n",
    "              y=\"area_highschool_ratio\",\n",
    "              data=data,\n",
    "              color=\"red\",\n",
    "              alpha=0.8)\n",
    "\n",
    "plt.text(40, 0.6,\"High School Graduate Ratio\", color=\"red\", fontsize=17, style=\"italic\")\n",
    "plt.text(40, 0.55,\"Povert Ratio\", color=\"lime\", fontsize=18, style=\"italic\")\n",
    "\n",
    "plt.xlabel(\"States\", fontsize=15, color=\"blue\")\n",
    "plt.ylabel(\"Values\", fontsize=15, color=\"blue\")\n",
    "\n",
    "plt.title(\"High School Graduate vs Poverty Rate\", fontsize=20, color=\"blue\")\n",
    "plt.grid()"
   ]
  },
  {
   "attachments": {},
   "cell_type": "markdown",
   "metadata": {
    "papermill": {
     "duration": 0.043541,
     "end_time": "2020-12-14T14:56:36.334815",
     "exception": false,
     "start_time": "2020-12-14T14:56:36.291274",
     "status": "completed"
    },
    "tags": []
   },
   "source": [
    "-----"
   ]
  },
  {
   "attachments": {},
   "cell_type": "markdown",
   "metadata": {
    "papermill": {
     "duration": 0.042634,
     "end_time": "2020-12-14T14:56:36.420901",
     "exception": false,
     "start_time": "2020-12-14T14:56:36.378267",
     "status": "completed"
    },
    "tags": []
   },
   "source": [
    "### Plot the killed people according to their races (in piechart)"
   ]
  },
  {
   "cell_type": "code",
   "execution_count": 128,
   "metadata": {
    "execution": {
     "iopub.execute_input": "2020-12-14T14:56:36.515692Z",
     "iopub.status.busy": "2020-12-14T14:56:36.514952Z",
     "iopub.status.idle": "2020-12-14T14:56:36.519483Z",
     "shell.execute_reply": "2020-12-14T14:56:36.518835Z"
    },
    "papermill": {
     "duration": 0.055595,
     "end_time": "2020-12-14T14:56:36.519592",
     "exception": false,
     "start_time": "2020-12-14T14:56:36.463997",
     "status": "completed"
    },
    "tags": []
   },
   "outputs": [
    {
     "data": {
      "text/plain": [
       "W    1201\n",
       "B     618\n",
       "H     423\n",
       "A      39\n",
       "N      31\n",
       "O      28\n",
       "Name: race, dtype: int64"
      ]
     },
     "execution_count": 128,
     "metadata": {},
     "output_type": "execute_result"
    }
   ],
   "source": [
    "kill.race.value_counts()"
   ]
  },
  {
   "cell_type": "code",
   "execution_count": 132,
   "metadata": {},
   "outputs": [
    {
     "data": {
      "text/plain": [
       "array([1201,  618,  423,   39,   31,   28], dtype=int64)"
      ]
     },
     "execution_count": 132,
     "metadata": {},
     "output_type": "execute_result"
    }
   ],
   "source": [
    "sizes"
   ]
  },
  {
   "cell_type": "code",
   "execution_count": 133,
   "metadata": {},
   "outputs": [
    {
     "data": {
      "text/plain": [
       "Index(['W', 'B', 'H', 'A', 'N', 'O'], dtype='object')"
      ]
     },
     "execution_count": 133,
     "metadata": {},
     "output_type": "execute_result"
    }
   ],
   "source": [
    "labels"
   ]
  },
  {
   "cell_type": "code",
   "execution_count": 176,
   "metadata": {
    "execution": {
     "iopub.execute_input": "2020-12-14T14:56:36.625807Z",
     "iopub.status.busy": "2020-12-14T14:56:36.620641Z",
     "iopub.status.idle": "2020-12-14T14:56:36.713554Z",
     "shell.execute_reply": "2020-12-14T14:56:36.712988Z"
    },
    "papermill": {
     "duration": 0.149673,
     "end_time": "2020-12-14T14:56:36.713674",
     "exception": false,
     "start_time": "2020-12-14T14:56:36.564001",
     "status": "completed"
    },
    "tags": []
   },
   "outputs": [
    {
     "data": {
      "text/plain": [
       "Text(0.5, 1.0, 'Killed people According to Races')"
      ]
     },
     "execution_count": 176,
     "metadata": {},
     "output_type": "execute_result"
    },
    {
     "data": {
      "image/png": "[encoded data removed]",
      "text/plain": [
       "<Figure size 504x504 with 1 Axes>"
      ]
     },
     "metadata": {},
     "output_type": "display_data"
    }
   ],
   "source": [
    "kill.race.dropna(inplace=True)\n",
    "\n",
    "sizes = kill.race.value_counts().values\n",
    "labels = kill.race.value_counts().index\n",
    "\n",
    "colors=[\"lightcyan\",\n",
    "        \"darkkhaki\",\n",
    "        \"mediumturquoise\",\n",
    "        \"yellow\",\n",
    "        \"red\",\n",
    "        \"hotpink\"]\n",
    "\n",
    "explode=[0.05,0,0,0,0.05,0]  # No explotion - separation from the pie chart\n",
    "\n",
    "# visualization\n",
    "plt.figure(figsize=(7,7))\n",
    "plt.pie(sizes,\n",
    "        explode=explode,\n",
    "        labels=labels,\n",
    "        colors=colors,\n",
    "        autopct=\"%1.1f%%\")\n",
    "\n",
    "plt.title(\"Killed people According to Races\",\n",
    "          color = \"blue\",\n",
    "          fontsize = 15)"
   ]
  },
  {
   "attachments": {},
   "cell_type": "markdown",
   "metadata": {
    "papermill": {
     "duration": 0.046474,
     "end_time": "2020-12-14T14:56:36.806089",
     "exception": false,
     "start_time": "2020-12-14T14:56:36.759615",
     "status": "completed"
    },
    "tags": []
   },
   "source": [
    "<a id=\"4\"></a><br>\n",
    "\n",
    "\n",
    "## Visualizing with Lmplot"
   ]
  },
  {
   "cell_type": "code",
   "execution_count": 20,
   "metadata": {
    "execution": {
     "iopub.execute_input": "2020-12-14T14:56:36.913206Z",
     "iopub.status.busy": "2020-12-14T14:56:36.912476Z",
     "iopub.status.idle": "2020-12-14T14:56:37.307870Z",
     "shell.execute_reply": "2020-12-14T14:56:37.308536Z"
    },
    "papermill": {
     "duration": 0.454723,
     "end_time": "2020-12-14T14:56:37.308705",
     "exception": false,
     "start_time": "2020-12-14T14:56:36.853982",
     "status": "completed"
    },
    "tags": []
   },
   "outputs": [
    {
     "data": {
      "image/png": "[encoded data removed]",
      "text/plain": [
       "<Figure size 360x360 with 1 Axes>"
      ]
     },
     "metadata": {
      "needs_background": "light"
     },
     "output_type": "display_data"
    }
   ],
   "source": [
    "# visualization\n",
    "sns.lmplot(x=\"area_poverty_ratio\"\n",
    "           ,y=\"area_highschool_ratio\",\n",
    "           data=data)\n",
    "\n",
    "# Plot data and regression model fits across a FacetGrid. This function combines regplot() and FacetGrid \n",
    "plt.show()"
   ]
  },
  {
   "attachments": {},
   "cell_type": "markdown",
   "metadata": {
    "papermill": {
     "duration": 0.053761,
     "end_time": "2020-12-14T14:56:37.416328",
     "exception": false,
     "start_time": "2020-12-14T14:56:37.362567",
     "status": "completed"
    },
    "tags": []
   },
   "source": [
    "<a id =\"5\"></a><br>\n",
    "\n",
    "\n",
    "\n",
    "# Visualizing with Heatmap"
   ]
  },
  {
   "cell_type": "code",
   "execution_count": 139,
   "metadata": {
    "execution": {
     "iopub.execute_input": "2020-12-14T14:56:37.528126Z",
     "iopub.status.busy": "2020-12-14T14:56:37.527097Z",
     "iopub.status.idle": "2020-12-14T14:56:37.752032Z",
     "shell.execute_reply": "2020-12-14T14:56:37.751337Z"
    },
    "papermill": {
     "duration": 0.281587,
     "end_time": "2020-12-14T14:56:37.752155",
     "exception": false,
     "start_time": "2020-12-14T14:56:37.470568",
     "status": "completed"
    },
    "tags": []
   },
   "outputs": [
    {
     "data": {
      "image/png": "[encoded data removed]",
      "text/plain": [
       "<Figure size 360x360 with 2 Axes>"
      ]
     },
     "metadata": {
      "needs_background": "light"
     },
     "output_type": "display_data"
    }
   ],
   "source": [
    "f,ax = plt.subplots(figsize=(5, 5))\n",
    "\n",
    "sns.heatmap(data.corr(), \n",
    "            annot=True,\n",
    "            linewidths=0.5,\n",
    "            linecolor=\"red\", \n",
    "            fmt= '.1f',\n",
    "            ax=ax)\n",
    "plt.show()"
   ]
  },
  {
   "cell_type": "code",
   "execution_count": null,
   "metadata": {},
   "outputs": [],
   "source": []
  },
  {
   "attachments": {},
   "cell_type": "markdown",
   "metadata": {
    "papermill": {
     "duration": 0.047888,
     "end_time": "2020-12-14T14:56:37.849296",
     "exception": false,
     "start_time": "2020-12-14T14:56:37.801408",
     "status": "completed"
    },
    "tags": []
   },
   "source": [
    "<a id = \"6\"></a><br>\n",
    "\n",
    "\n",
    "#  Visualizing with BoxPlot "
   ]
  },
  {
   "cell_type": "code",
   "execution_count": 140,
   "metadata": {
    "execution": {
     "iopub.execute_input": "2020-12-14T14:56:37.953149Z",
     "iopub.status.busy": "2020-12-14T14:56:37.952013Z",
     "iopub.status.idle": "2020-12-14T14:56:38.153948Z",
     "shell.execute_reply": "2020-12-14T14:56:38.153354Z"
    },
    "papermill": {
     "duration": 0.256465,
     "end_time": "2020-12-14T14:56:38.154072",
     "exception": false,
     "start_time": "2020-12-14T14:56:37.897607",
     "status": "completed"
    },
    "tags": []
   },
   "outputs": [
    {
     "data": {
      "image/png": "[encoded data removed]",
      "text/plain": [
       "<Figure size 432x288 with 1 Axes>"
      ]
     },
     "metadata": {
      "needs_background": "light"
     },
     "output_type": "display_data"
    }
   ],
   "source": [
    "sns.boxplot(x=\"gender\",\n",
    "            y=\"age\",\n",
    "            hue=\"manner_of_death\",\n",
    "            data=kill,\n",
    "            palette=\"PRGn\")\n",
    "plt.show()"
   ]
  },
  {
   "attachments": {},
   "cell_type": "markdown",
   "metadata": {
    "papermill": {
     "duration": 0.050656,
     "end_time": "2020-12-14T14:56:38.253844",
     "exception": false,
     "start_time": "2020-12-14T14:56:38.203188",
     "status": "completed"
    },
    "tags": []
   },
   "source": [
    "<a id=\"7\"></a><br>\n",
    "\n",
    "# Visualizing with SwarmPlot"
   ]
  },
  {
   "cell_type": "code",
   "execution_count": 141,
   "metadata": {
    "execution": {
     "iopub.execute_input": "2020-12-14T14:56:38.357986Z",
     "iopub.status.busy": "2020-12-14T14:56:38.356946Z",
     "iopub.status.idle": "2020-12-14T14:56:54.638016Z",
     "shell.execute_reply": "2020-12-14T14:56:54.638539Z"
    },
    "papermill": {
     "duration": 16.336419,
     "end_time": "2020-12-14T14:56:54.638702",
     "exception": false,
     "start_time": "2020-12-14T14:56:38.302283",
     "status": "completed"
    },
    "tags": []
   },
   "outputs": [
    {
     "name": "stderr",
     "output_type": "stream",
     "text": [
      "C:\\Users\\User\\anaconda3\\lib\\site-packages\\seaborn\\categorical.py:1296: UserWarning: 68.7% of the points cannot be placed; you may want to decrease the size of the markers or use stripplot.\n",
      "  warnings.warn(msg, UserWarning)\n"
     ]
    },
    {
     "data": {
      "image/png": "[encoded data removed]",
      "text/plain": [
       "<Figure size 432x288 with 1 Axes>"
      ]
     },
     "metadata": {
      "needs_background": "light"
     },
     "output_type": "display_data"
    }
   ],
   "source": [
    "# This one of the most useful of plots\n",
    "\n",
    "sns.swarmplot(x=\"gender\",\n",
    "              y=\"age\",\n",
    "              hue=\"manner_of_death\",\n",
    "              data=kill)\n",
    "plt.show()"
   ]
  },
  {
   "attachments": {},
   "cell_type": "markdown",
   "metadata": {
    "papermill": {
     "duration": 0.049698,
     "end_time": "2020-12-14T14:56:54.738947",
     "exception": false,
     "start_time": "2020-12-14T14:56:54.689249",
     "status": "completed"
    },
    "tags": []
   },
   "source": [
    "<a id=\"8\"></a><br>\n",
    "\n",
    "# Visualizing with PairPlot"
   ]
  },
  {
   "cell_type": "code",
   "execution_count": 24,
   "metadata": {
    "execution": {
     "iopub.execute_input": "2020-12-14T14:56:54.845533Z",
     "iopub.status.busy": "2020-12-14T14:56:54.844773Z",
     "iopub.status.idle": "2020-12-14T14:56:55.937026Z",
     "shell.execute_reply": "2020-12-14T14:56:55.937632Z"
    },
    "papermill": {
     "duration": 1.148529,
     "end_time": "2020-12-14T14:56:55.937814",
     "exception": false,
     "start_time": "2020-12-14T14:56:54.789285",
     "status": "completed"
    },
    "tags": []
   },
   "outputs": [
    {
     "data": {
      "image/png": "[encoded data removed]",
      "text/plain": [
       "<Figure size 360x360 with 6 Axes>"
      ]
     },
     "metadata": {
      "needs_background": "light"
     },
     "output_type": "display_data"
    }
   ],
   "source": [
    "sns.pairplot(data)\n",
    "plt.show()"
   ]
  },
  {
   "attachments": {},
   "cell_type": "markdown",
   "metadata": {
    "papermill": {
     "duration": 0.052149,
     "end_time": "2020-12-14T14:56:56.047221",
     "exception": false,
     "start_time": "2020-12-14T14:56:55.995072",
     "status": "completed"
    },
    "tags": []
   },
   "source": [
    "<a id =\"9\"></a><br>\n",
    "\n",
    "# Visualizing with CountPlot"
   ]
  },
  {
   "cell_type": "code",
   "execution_count": 25,
   "metadata": {
    "execution": {
     "iopub.execute_input": "2020-12-14T14:56:56.157264Z",
     "iopub.status.busy": "2020-12-14T14:56:56.156587Z",
     "iopub.status.idle": "2020-12-14T14:56:56.276490Z",
     "shell.execute_reply": "2020-12-14T14:56:56.275753Z"
    },
    "papermill": {
     "duration": 0.177539,
     "end_time": "2020-12-14T14:56:56.276615",
     "exception": false,
     "start_time": "2020-12-14T14:56:56.099076",
     "status": "completed"
    },
    "tags": []
   },
   "outputs": [
    {
     "data": {
      "image/png": "[encoded data removed]",
      "text/plain": [
       "<Figure size 432x288 with 1 Axes>"
      ]
     },
     "metadata": {
      "needs_background": "light"
     },
     "output_type": "display_data"
    }
   ],
   "source": [
    "# Death Rate By Gender\n",
    "sns.countplot(kill.gender)\n",
    "\n",
    "plt.title(\"gender\",\n",
    "          color=\"blue\",\n",
    "          fontsize=15)\n",
    "plt.show()"
   ]
  },
  {
   "cell_type": "code",
   "execution_count": 89,
   "metadata": {
    "collapsed": true,
    "execution": {
     "iopub.execute_input": "2020-12-14T14:56:56.387232Z",
     "iopub.status.busy": "2020-12-14T14:56:56.386334Z",
     "iopub.status.idle": "2020-12-14T14:56:56.454642Z",
     "shell.execute_reply": "2020-12-14T14:56:56.453977Z"
    },
    "papermill": {
     "duration": 0.125088,
     "end_time": "2020-12-14T14:56:56.454765",
     "exception": false,
     "start_time": "2020-12-14T14:56:56.329677",
     "status": "completed"
    },
    "tags": []
   },
   "outputs": [
    {
     "ename": "NameError",
     "evalue": "name 'armed' is not defined",
     "output_type": "error",
     "traceback": [
      "\u001b[1;31m---------------------------------------------------------------------------\u001b[0m",
      "\u001b[1;31mNameError\u001b[0m                                 Traceback (most recent call last)",
      "\u001b[1;32m~\\AppData\\Local\\Temp/ipykernel_15292/2336781654.py\u001b[0m in \u001b[0;36m<module>\u001b[1;34m\u001b[0m\n\u001b[1;32m----> 1\u001b[1;33m \u001b[0mprint\u001b[0m\u001b[1;33m(\u001b[0m\u001b[0marmed\u001b[0m\u001b[1;33m)\u001b[0m\u001b[1;33m\u001b[0m\u001b[1;33m\u001b[0m\u001b[0m\n\u001b[0m",
      "\u001b[1;31mNameError\u001b[0m: name 'armed' is not defined"
     ]
    }
   ],
   "source": [
    "print(armed)"
   ]
  },
  {
   "cell_type": "code",
   "execution_count": 142,
   "metadata": {
    "execution": {
     "iopub.execute_input": "2020-12-14T14:56:56.582679Z",
     "iopub.status.busy": "2020-12-14T14:56:56.571325Z",
     "iopub.status.idle": "2020-12-14T14:56:56.788290Z",
     "shell.execute_reply": "2020-12-14T14:56:56.787482Z"
    },
    "papermill": {
     "duration": 0.280715,
     "end_time": "2020-12-14T14:56:56.788426",
     "exception": false,
     "start_time": "2020-12-14T14:56:56.507711",
     "status": "completed"
    },
    "tags": []
   },
   "outputs": [
    {
     "data": {
      "image/png": "[encoded data removed]",
      "text/plain": [
       "<Figure size 720x720 with 1 Axes>"
      ]
     },
     "metadata": {
      "needs_background": "light"
     },
     "output_type": "display_data"
    }
   ],
   "source": [
    "# Top ten kill weapon\n",
    "\n",
    "armed = kill.armed.value_counts()\n",
    "\n",
    "plt.figure(figsize=(10,10))\n",
    "\n",
    "sns.barplot(x=armed[:10].index,\n",
    "            y=armed[:10].values)\n",
    "\n",
    "plt.ylabel(\"Number of weapon\")\n",
    "plt.xlabel(\"Weapon Types\")\n",
    "plt.title(\"Kill weapon\",color=\"red\",fontsize=15)\n",
    "plt.show()"
   ]
  },
  {
   "cell_type": "code",
   "execution_count": 143,
   "metadata": {
    "execution": {
     "iopub.execute_input": "2020-12-14T14:56:56.910026Z",
     "iopub.status.busy": "2020-12-14T14:56:56.908782Z",
     "iopub.status.idle": "2020-12-14T14:56:57.026169Z",
     "shell.execute_reply": "2020-12-14T14:56:57.026706Z"
    },
    "papermill": {
     "duration": 0.182947,
     "end_time": "2020-12-14T14:56:57.026869",
     "exception": false,
     "start_time": "2020-12-14T14:56:56.843922",
     "status": "completed"
    },
    "tags": []
   },
   "outputs": [
    {
     "data": {
      "image/png": "[encoded data removed]",
      "text/plain": [
       "<Figure size 432x288 with 1 Axes>"
      ]
     },
     "metadata": {
      "needs_background": "light"
     },
     "output_type": "display_data"
    }
   ],
   "source": [
    "# age of killed people above 20\n",
    "above20 = [\"above20\" \n",
    "           if i >= 20 \n",
    "           else \"below20\" for i in kill.age]\n",
    "\n",
    "df = pd.DataFrame({\"age\":above20})\n",
    "\n",
    "sns.countplot(x=df.age)\n",
    "\n",
    "plt.ylabel(\"Number of Killed People\")\n",
    "plt.title(\"Age of Killed People0\",color = \"blue\",fontsize=15)\n",
    "plt.show()"
   ]
  },
  {
   "cell_type": "code",
   "execution_count": 29,
   "metadata": {
    "execution": {
     "iopub.execute_input": "2020-12-14T14:56:57.156909Z",
     "iopub.status.busy": "2020-12-14T14:56:57.156238Z",
     "iopub.status.idle": "2020-12-14T14:56:57.307985Z",
     "shell.execute_reply": "2020-12-14T14:56:57.308652Z"
    },
    "papermill": {
     "duration": 0.21129,
     "end_time": "2020-12-14T14:56:57.308805",
     "exception": false,
     "start_time": "2020-12-14T14:56:57.097515",
     "status": "completed"
    },
    "tags": []
   },
   "outputs": [
    {
     "data": {
      "image/png": "[encoded data removed]",
      "text/plain": [
       "<Figure size 432x288 with 1 Axes>"
      ]
     },
     "metadata": {
      "needs_background": "light"
     },
     "output_type": "display_data"
    }
   ],
   "source": [
    "sns.countplot(data=kill,\n",
    "              x=\"race\")\n",
    "\n",
    "plt.title(\"Race of Killed People\",\n",
    "          color=\"blue\",\n",
    "          fontsize=15)\n",
    "plt.show()\n"
   ]
  },
  {
   "cell_type": "code",
   "execution_count": 30,
   "metadata": {
    "execution": {
     "iopub.execute_input": "2020-12-14T14:56:57.423081Z",
     "iopub.status.busy": "2020-12-14T14:56:57.422412Z",
     "iopub.status.idle": "2020-12-14T14:56:57.554909Z",
     "shell.execute_reply": "2020-12-14T14:56:57.554241Z"
    },
    "papermill": {
     "duration": 0.190353,
     "end_time": "2020-12-14T14:56:57.555021",
     "exception": false,
     "start_time": "2020-12-14T14:56:57.364668",
     "status": "completed"
    },
    "tags": []
   },
   "outputs": [
    {
     "data": {
      "image/png": "[encoded data removed]",
      "text/plain": [
       "<Figure size 432x288 with 1 Axes>"
      ]
     },
     "metadata": {
      "needs_background": "light"
     },
     "output_type": "display_data"
    }
   ],
   "source": [
    "# Having mental ilness or not for killed people\n",
    "sns.countplot(kill.signs_of_mental_illness)\n",
    "\n",
    "plt.xlabel(\"Mental Illness\")\n",
    "plt.ylabel(\"Number of Mental Illness\")\n",
    "\n",
    "plt.title(\"Having mental illness or not\",\n",
    "          color = \"red\",\n",
    "          fontsize=15)\n",
    "plt.show()\n"
   ]
  },
  {
   "cell_type": "code",
   "execution_count": 93,
   "metadata": {
    "execution": {
     "iopub.execute_input": "2020-12-14T14:56:57.682011Z",
     "iopub.status.busy": "2020-12-14T14:56:57.678961Z",
     "iopub.status.idle": "2020-12-14T14:56:57.820935Z",
     "shell.execute_reply": "2020-12-14T14:56:57.820309Z"
    },
    "papermill": {
     "duration": 0.208007,
     "end_time": "2020-12-14T14:56:57.821067",
     "exception": false,
     "start_time": "2020-12-14T14:56:57.613060",
     "status": "completed"
    },
    "tags": []
   },
   "outputs": [
    {
     "name": "stderr",
     "output_type": "stream",
     "text": [
      "C:\\Users\\User\\anaconda3\\lib\\site-packages\\seaborn\\_decorators.py:36: FutureWarning: Pass the following variable as a keyword arg: x. From version 0.12, the only valid positional argument will be `data`, and passing other arguments without an explicit keyword will result in an error or misinterpretation.\n",
      "  warnings.warn(\n"
     ]
    },
    {
     "data": {
      "image/png": "[encoded data removed]",
      "text/plain": [
       "<Figure size 432x288 with 1 Axes>"
      ]
     },
     "metadata": {
      "needs_background": "light"
     },
     "output_type": "display_data"
    }
   ],
   "source": [
    "# Threat types\n",
    "sns.countplot(kill.threat_level)\n",
    "\n",
    "plt.xlabel(\"Threat Types\")\n",
    "plt.title(\"Threat types\",\n",
    "          color =\"red\",\n",
    "          fontsize=15)\n",
    "plt.show()\n"
   ]
  },
  {
   "cell_type": "code",
   "execution_count": 32,
   "metadata": {
    "execution": {
     "iopub.execute_input": "2020-12-14T14:56:57.953499Z",
     "iopub.status.busy": "2020-12-14T14:56:57.952708Z",
     "iopub.status.idle": "2020-12-14T14:56:58.102772Z",
     "shell.execute_reply": "2020-12-14T14:56:58.103380Z"
    },
    "papermill": {
     "duration": 0.2181,
     "end_time": "2020-12-14T14:56:58.103539",
     "exception": false,
     "start_time": "2020-12-14T14:56:57.885439",
     "status": "completed"
    },
    "tags": []
   },
   "outputs": [
    {
     "data": {
      "image/png": "[encoded data removed]",
      "text/plain": [
       "<Figure size 432x288 with 1 Axes>"
      ]
     },
     "metadata": {
      "needs_background": "light"
     },
     "output_type": "display_data"
    }
   ],
   "source": [
    "# Flee types\n",
    "sns.countplot(kill.flee)\n",
    "\n",
    "plt.xlabel(\"Flee Types\")\n",
    "plt.title(\"Flee Types\",\n",
    "          color=\"red\",\n",
    "          fontsize=15)\n",
    "plt.show()"
   ]
  },
  {
   "cell_type": "code",
   "execution_count": 33,
   "metadata": {
    "execution": {
     "iopub.execute_input": "2020-12-14T14:56:58.224776Z",
     "iopub.status.busy": "2020-12-14T14:56:58.224072Z",
     "iopub.status.idle": "2020-12-14T14:56:58.343289Z",
     "shell.execute_reply": "2020-12-14T14:56:58.343867Z"
    },
    "papermill": {
     "duration": 0.181239,
     "end_time": "2020-12-14T14:56:58.344020",
     "exception": false,
     "start_time": "2020-12-14T14:56:58.162781",
     "status": "completed"
    },
    "tags": []
   },
   "outputs": [
    {
     "data": {
      "image/png": "[encoded data removed]",
      "text/plain": [
       "<Figure size 432x288 with 1 Axes>"
      ]
     },
     "metadata": {
      "needs_background": "light"
     },
     "output_type": "display_data"
    }
   ],
   "source": [
    "# Having body cameras or not for police\n",
    "sns.countplot(kill.body_camera)\n",
    "\n",
    "plt.xlabel(\"Having Body Cameras\")\n",
    "plt.title(\"Having body cameras or not for police\", \n",
    "          color =\"red\",\n",
    "          fontsize=15)\n",
    "plt.show()\n"
   ]
  },
  {
   "attachments": {},
   "cell_type": "markdown",
   "metadata": {
    "papermill": {
     "duration": 0.058764,
     "end_time": "2020-12-14T14:56:58.462546",
     "exception": false,
     "start_time": "2020-12-14T14:56:58.403782",
     "status": "completed"
    },
    "tags": []
   },
   "source": [
    "<a id =\"10\"></a><br>\n",
    "\n",
    "\n",
    "\n",
    "# Visualizing with Bar_Plot_V2"
   ]
  },
  {
   "cell_type": "code",
   "execution_count": 144,
   "metadata": {
    "execution": {
     "iopub.execute_input": "2020-12-14T14:56:58.585701Z",
     "iopub.status.busy": "2020-12-14T14:56:58.585025Z",
     "iopub.status.idle": "2020-12-14T14:56:58.824831Z",
     "shell.execute_reply": "2020-12-14T14:56:58.824264Z"
    },
    "papermill": {
     "duration": 0.302533,
     "end_time": "2020-12-14T14:56:58.824952",
     "exception": false,
     "start_time": "2020-12-14T14:56:58.522419",
     "status": "completed"
    },
    "tags": []
   },
   "outputs": [
    {
     "data": {
      "image/png": "[encoded data removed]",
      "text/plain": [
       "<Figure size 720x504 with 1 Axes>"
      ]
     },
     "metadata": {
      "needs_background": "light"
     },
     "output_type": "display_data"
    }
   ],
   "source": [
    "# Most dangerous cities in the US\n",
    "city = kill.city.value_counts()\n",
    "\n",
    "plt.figure(figsize=(10,7))\n",
    "sns.barplot(x=city[:12].index,\n",
    "            y=city[:12].values)\n",
    "\n",
    "plt.xticks(rotation=45)\n",
    "plt.title(\"Most Dangerous Cities\",\n",
    "          color=\"red\",\n",
    "          fontsize = 15)\n",
    "plt.show()"
   ]
  },
  {
   "cell_type": "code",
   "execution_count": 145,
   "metadata": {},
   "outputs": [
    {
     "name": "stdout",
     "output_type": "stream",
     "text": [
      "Los Angeles         39\n",
      "Phoenix             31\n",
      "Houston             27\n",
      "Chicago             25\n",
      "Las Vegas           21\n",
      "                    ..\n",
      "Columbia Heights     1\n",
      "Ozark                1\n",
      "Lampe                1\n",
      "Seagoville           1\n",
      "Oshkosh              1\n",
      "Name: city, Length: 1417, dtype: int64\n"
     ]
    }
   ],
   "source": [
    "print(city)"
   ]
  },
  {
   "cell_type": "code",
   "execution_count": 35,
   "metadata": {
    "execution": {
     "iopub.execute_input": "2020-12-14T14:56:59.133629Z",
     "iopub.status.busy": "2020-12-14T14:56:59.126472Z",
     "iopub.status.idle": "2020-12-14T14:56:59.396368Z",
     "shell.execute_reply": "2020-12-14T14:56:59.396862Z"
    },
    "papermill": {
     "duration": 0.510853,
     "end_time": "2020-12-14T14:56:59.397018",
     "exception": false,
     "start_time": "2020-12-14T14:56:58.886165",
     "status": "completed"
    },
    "tags": []
   },
   "outputs": [
    {
     "data": {
      "image/png": "[encoded data removed]",
      "text/plain": [
       "<Figure size 720x504 with 1 Axes>"
      ]
     },
     "metadata": {
      "needs_background": "light"
     },
     "output_type": "display_data"
    }
   ],
   "source": [
    "# most dangerous states\n",
    "state = kill.state.value_counts()\n",
    "\n",
    "plt.figure(figsize=(10,7))\n",
    "\n",
    "sns.barplot(x=state[:20].index,\n",
    "            y=state[:20].values)\n",
    "\n",
    "plt.title(\"Most Dangerous States\",\n",
    "          color =\"red\",\n",
    "          fontsize =15)\n",
    "plt.show()"
   ]
  },
  {
   "cell_type": "code",
   "execution_count": 36,
   "metadata": {
    "execution": {
     "iopub.execute_input": "2020-12-14T14:56:59.548349Z",
     "iopub.status.busy": "2020-12-14T14:56:59.546869Z",
     "iopub.status.idle": "2020-12-14T14:56:59.739682Z",
     "shell.execute_reply": "2020-12-14T14:56:59.740244Z"
    },
    "papermill": {
     "duration": 0.280514,
     "end_time": "2020-12-14T14:56:59.740413",
     "exception": false,
     "start_time": "2020-12-14T14:56:59.459899",
     "status": "completed"
    },
    "tags": []
   },
   "outputs": [
    {
     "data": {
      "image/png": "[encoded data removed]",
      "text/plain": [
       "<Figure size 432x288 with 1 Axes>"
      ]
     },
     "metadata": {
      "needs_background": "light"
     },
     "output_type": "display_data"
    }
   ],
   "source": [
    "# Kill numbers from states in kill data\n",
    "sta = kill.state.value_counts().index[:10]\n",
    "\n",
    "sns.barplot(x=sta,\n",
    "            y=kill.state.value_counts().values[:10])\n",
    "\n",
    "plt.title(\"Kill numbers from states\",\n",
    "          color=\"red\",\n",
    "          fontsize=15)\n",
    "plt.show()"
   ]
  }
 ],
 "metadata": {
  "kernelspec": {
   "display_name": "Python 3 (ipykernel)",
   "language": "python",
   "name": "python3"
  },
  "language_info": {
   "codemirror_mode": {
    "name": "ipython",
    "version": 3
   },
   "file_extension": ".py",
   "mimetype": "text/x-python",
   "name": "python",
   "nbconvert_exporter": "python",
   "pygments_lexer": "ipython3",
   "version": "3.10.11"
  },
  "papermill": {
   "duration": 37.344747,
   "end_time": "2020-12-14T14:56:59.919168",
   "environment_variables": {},
   "exception": null,
   "input_path": "__notebook__.ipynb",
   "output_path": "__notebook__.ipynb",
   "parameters": {},
   "start_time": "2020-12-14T14:56:22.574421",
   "version": "2.1.0"
  },
  "toc": {
   "base_numbering": 1,
   "nav_menu": {},
   "number_sections": true,
   "sideBar": true,
   "skip_h1_title": false,
   "title_cell": "Table of Contents",
   "title_sidebar": "Contents",
   "toc_cell": false,
   "toc_position": {
    "height": "calc(100% - 180px)",
    "left": "10px",
    "top": "150px",
    "width": "295px"
   },
   "toc_section_display": true,
   "toc_window_display": true
  }
 },
 "nbformat": 4,
 "nbformat_minor": 4
}
